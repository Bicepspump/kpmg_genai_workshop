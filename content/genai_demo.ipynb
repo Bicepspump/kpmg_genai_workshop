{
 "cells": [
  {
   "cell_type": "code",
   "execution_count": 137,
   "metadata": {},
   "outputs": [],
   "source": [
    "AZURE_OPENAI_ENDPOINT = \"\"\n",
    "API_KEY = \"\""
   ]
  },
  {
   "cell_type": "code",
   "execution_count": 132,
   "metadata": {},
   "outputs": [],
   "source": [
    "import requests\n",
    "import json\n",
    "\n",
    "JSON_INDENT = 2\n",
    "def format_json(obj):\n",
    "    \"\"\"\n",
    "    Formats a given JSON instance into a readable string with a defined indentation.\n",
    "\n",
    "    Args:\n",
    "        obj (Any): The JSON object to format, which should be\n",
    "            a valid Python dictionary or list structure.\n",
    "\n",
    "    Returns:\n",
    "        str: A JSON-formatted string with indentation specified by the global JSON_INDENT.\n",
    "    \"\"\"\n",
    "    try:\n",
    "        return json.dumps(obj, indent=JSON_INDENT)\n",
    "    except Exception as e:# (TypeError, ValueError)\n",
    "        print(f\"Error formatting JSON: {e}\")\n",
    "\n",
    "def create_response_format(schema):\n",
    "    response_format = {\n",
    "        \"type\": \"json_schema\",\n",
    "        \"json_schema\": {\n",
    "            \"name\": \"json_output_schema\",\n",
    "            \"schema\": {**schema},\n",
    "            \"strict\": True\n",
    "        }\n",
    "    }\n",
    "    return response_format\n",
    "\n",
    "# Replace with your Azure OpenAI details\n",
    "\n",
    "API_VERSION = \"2024-08-01-preview\"\n",
    "DEPLOYMENT_NAME = \"gpt-4o-strict-json\"\n",
    "\n",
    "# Endpoint for creating an assistant\n",
    "url = f\"{AZURE_OPENAI_ENDPOINT}/openai/deployments/{DEPLOYMENT_NAME}/chat/completions?api-version={API_VERSION}\"\n",
    "\n",
    "headers = {\n",
    "    \"Content-Type\": \"application/json\",\n",
    "    \"api-key\": API_KEY\n",
    "}"
   ]
  },
  {
   "cell_type": "code",
   "execution_count": 133,
   "metadata": {},
   "outputs": [],
   "source": [
    "classification_types = [\"world_news\", \"finance\", \"sports\", \"politics\", \"local_news\"]\n",
    "json_output_schema = {\n",
    "    \"type\": \"object\",\n",
    "    \"properties\": {\n",
    "        \"response\": {\n",
    "            \"type\": \"object\",\n",
    "            \"properties\": {\n",
    "                    \"reasoning\": { \"type\": \"string\" },\n",
    "                    \"classification\": { \"type\": \"string\", \"enum\": classification_types}\n",
    "            },\n",
    "            \"additionalProperties\": False,\n",
    "            \"required\": [\"reasoning\", \"classification\"]\n",
    "        }\n",
    "    },\n",
    "    \"additionalProperties\": False,\n",
    "    \"required\": [\"response\"]\n",
    "}\n",
    "response_format = create_response_format(json_output_schema)\n",
    "\n",
    "json_output_instance = {\n",
    "    \"response\": {\n",
    "            \"reasoning\": \"This news article is of the type internal_news because of bla bla bla\",\n",
    "            \"classification\": \"internal_news\"\n",
    "    }\n",
    "}"
   ]
  },
  {
   "cell_type": "code",
   "execution_count": 134,
   "metadata": {},
   "outputs": [],
   "source": [
    "system_prompt = f\"\"\"You are a journalist with over 25 years of experience with great expertise in reading and classifying news articles.\n",
    "You will receive the content of a news article and your task is to classify it into a set of pre-defined news types.\n",
    "Please read the entire article in full and then respond in the following format:\n",
    "{format_json(json_output_instance)}\n",
    "Add your reasoning to the \"reasoning\" entry.\n",
    "Add the classification to the \"classification\" entry.\n",
    "\"\"\""
   ]
  },
  {
   "cell_type": "code",
   "execution_count": 135,
   "metadata": {},
   "outputs": [],
   "source": [
    "user_prompt = \"\"\"\n",
    "\"\"\""
   ]
  },
  {
   "cell_type": "code",
   "execution_count": 136,
   "metadata": {},
   "outputs": [
    {
     "data": {
      "text/plain": [
       "{'reasoning': 'This news article is of the type local_news because it focuses on events or stories happening within a specific community or region. The content likely involves issues, incidents, or developments that primarily affect a local audience and is structured around a geographical or communal focus.',\n",
       " 'classification': 'local_news'}"
      ]
     },
     "execution_count": 136,
     "metadata": {},
     "output_type": "execute_result"
    }
   ],
   "source": [
    "data = {\n",
    "    \"messages\": [\n",
    "        {\"role\": \"system\", \"content\": system_prompt},\n",
    "        {\"role\": \"user\", \"content\": user_prompt}\n",
    "    ],\n",
    "    \"response_format\": response_format\n",
    "}\n",
    "response = json.loads(requests.post(url, headers=headers, json=data).json()[\"choices\"][0][\"message\"][\"content\"])[\"response\"]\n",
    "response"
   ]
  },
  {
   "cell_type": "code",
   "execution_count": null,
   "metadata": {},
   "outputs": [],
   "source": []
  },
  {
   "cell_type": "code",
   "execution_count": null,
   "metadata": {},
   "outputs": [],
   "source": []
  },
  {
   "cell_type": "code",
   "execution_count": null,
   "metadata": {},
   "outputs": [],
   "source": []
  },
  {
   "cell_type": "code",
   "execution_count": null,
   "metadata": {},
   "outputs": [],
   "source": []
  },
  {
   "cell_type": "code",
   "execution_count": null,
   "metadata": {},
   "outputs": [],
   "source": []
  },
  {
   "cell_type": "code",
   "execution_count": null,
   "metadata": {},
   "outputs": [],
   "source": []
  }
 ],
 "metadata": {
  "kernelspec": {
   "display_name": "Python 3 (ipykernel)",
   "language": "python",
   "name": "python3"
  },
  "language_info": {
   "codemirror_mode": {
    "name": "ipython",
    "version": 3
   },
   "file_extension": ".py",
   "mimetype": "text/x-python",
   "name": "python",
   "nbconvert_exporter": "python",
   "pygments_lexer": "ipython3",
   "version": "3.13.0"
  }
 },
 "nbformat": 4,
 "nbformat_minor": 4
}
