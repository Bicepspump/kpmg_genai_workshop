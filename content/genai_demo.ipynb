{
 "cells": [
  {
   "cell_type": "code",
   "execution_count": 8,
   "metadata": {},
   "outputs": [],
   "source": [
    "import requests\n",
    "import json"
   ]
  },
  {
   "cell_type": "code",
   "execution_count": 45,
   "metadata": {},
   "outputs": [],
   "source": [
    "JSON_INDENT = 2\n",
    "def format_json(obj):\n",
    "    \"\"\"\n",
    "    Formats a given JSON instance into a readable string with a defined indentation.\n",
    "\n",
    "    Args:\n",
    "        obj (Any): The JSON object to format, which should be\n",
    "            a valid Python dictionary or list structure.\n",
    "\n",
    "    Returns:\n",
    "        str: A JSON-formatted string with indentation specified by the global JSON_INDENT.\n",
    "    \"\"\"\n",
    "    try:\n",
    "        return json.dumps(obj, indent=JSON_INDENT)\n",
    "    except Exception as e:# (TypeError, ValueError)\n",
    "        print(f\"Error formatting JSON: {e}\")\n",
    "\n",
    "def create_response_format(schema):\n",
    "    response_format = {\n",
    "        \"type\": \"json_schema\",\n",
    "        \"json_schema\": {\n",
    "            \"name\": \"json_output_schema\",\n",
    "            \"schema\": {**schema},\n",
    "            \"strict\": True\n",
    "        }\n",
    "    }\n",
    "    return response_format"
   ]
  },
  {
   "cell_type": "code",
   "execution_count": 112,
   "metadata": {},
   "outputs": [],
   "source": [
    "# Replace with your Azure OpenAI details\n",
    "AZURE_OPENAI_ENDPOINT = \"\"\n",
    "API_VERSION = \"2024-08-01-preview\"\n",
    "API_KEY = \"\"\n",
    "DEPLOYMENT_NAME = \"gpt-4o-strict-json\"\n",
    "\n",
    "# Endpoint for creating an assistant\n",
    "url = f\"{AZURE_OPENAI_ENDPOINT}/openai/deployments/{DEPLOYMENT_NAME}/chat/completions?api-version={API_VERSION}\"\n",
    "\n",
    "headers = {\n",
    "    \"Content-Type\": \"application/json\",\n",
    "    \"api-key\": API_KEY\n",
    "}"
   ]
  },
  {
   "cell_type": "code",
   "execution_count": 113,
   "metadata": {},
   "outputs": [],
   "source": [
    "classification_types = [\"world_news\", \"finance\", \"sports\", \"politics\", \"local_news\"]\n",
    "json_output_schema = {\n",
    "    \"type\": \"object\",\n",
    "    \"properties\": {\n",
    "        \"response\": {\n",
    "            \"type\": \"object\",\n",
    "            \"properties\": {\n",
    "                    \"reasoning\": { \"type\": \"string\" },\n",
    "                    \"classification\": { \"type\": \"string\", \"enum\": classification_types}\n",
    "            },\n",
    "            \"additionalProperties\": False,\n",
    "            \"required\": [\"reasoning\", \"classification\"]\n",
    "        }\n",
    "    },\n",
    "    \"additionalProperties\": False,\n",
    "    \"required\": [\"response\"]\n",
    "}\n",
    "response_format = create_response_format(json_output_schema)\n",
    "\n",
    "json_output_instance = {\n",
    "    \"response\": {\n",
    "            \"reasoning\": \"This news article is of the type internal_news because of bla bla bla\",\n",
    "            \"classification\": \"internal_news\"\n",
    "    }\n",
    "}"
   ]
  },
  {
   "cell_type": "code",
   "execution_count": 114,
   "metadata": {},
   "outputs": [],
   "source": [
    "system_prompt = f\"\"\"You are a journalist with over 25 years of experience with great expertise in reading and classifying news articles.\n",
    "You will receive the content of a news article and your task is to classify it into a set of pre-defined news types.\n",
    "Please read the entire article in full and then respond in the following format:\n",
    "{format_json(json_output_instance)}\n",
    "Add your reasoning to the \"reasoning\" entry.\n",
    "Add the classification to the \"classification\" entry.\n",
    "\"\"\""
   ]
  },
  {
   "cell_type": "code",
   "execution_count": 115,
   "metadata": {},
   "outputs": [],
   "source": [
    "user_prompt = \"\"\"\n",
    "Kungens tabbe: Sa fel namn på nya prinsessan\n",
    "Uppdaterad idag 12:20Publicerad idag 11:04\n",
    "Namnet på prins Carl Philip och Sofias dotter har avslöjats.\n",
    "\n",
    "Hon ska heta Ines Marie Lilian Silvia och blir hertiginna av Västerbotten.\n",
    "\n",
    "Men kungen sa ett annat namn under konseljen.\n",
    "\n",
    "I fredags fick prins Carl Philip och prinsessan Sofia sitt fjärde barn – en dotter.\n",
    "\n",
    "På måndagen avslöjades namnet på den nya prinsessan under en konselj. Hon ska heta Ines Marie Lilian Silvia, med tilltalsnamnet Ines, skriver hovet i ett pressmeddelande.\n",
    "\n",
    "Hon blir hertiginna av Västerbotten.\n",
    "\n",
    "Kungen sa dock ett annat namn under konseljen – och uppgav att prinsessan skulle heta ”Inse”. Senare publicerade hovet ett pressmeddelande med namnet ”Ines Marie Lilian Silvia”.\n",
    "\n",
    "– Kungen har sagt fel i konseljen i direktsändning, säger hovexperten Johan T Lindwall i SVT:s livesändning.\n",
    "\n",
    "– Ines är ju ett väldigt, väldigt fint namn. Och det känns som att det har gamla anor. Jag tycker att det är ett otroligt fint tilltalsnamn.\n",
    "\n",
    "Hovet: Kungen ”jätteledsen” att han sa fel namn\n",
    "Hovets informationschef Margareta Thorgren säger att kungen är ledsen över att han sa fel tilltalsnamn.\n",
    "\n",
    "– Kungen är jätteledsen. Han upplevde inte att han sa fel namn när han läste namnen, utan det förstod han senare, säger Margareta Thorgren till SVT.\n",
    "\n",
    "Thorgren säger att kungen fick reda på namnet kort innan konseljen, och tillägger att det är ”lätt att läsa fel”.\n",
    "\n",
    "– Det är ofta väldigt hemligt vad kungabarn ska heta ända fram till konseljen, naturligtvis är det också en anledning. I det här fallet vände han på bokstäverna.\n",
    "\n",
    "”Ljus möter mörker”\n",
    "Det blir kung Carl Gustaf och drottning Silvias nionde barnbarn.\n",
    "\n",
    "– Ett barn har kommit till världen, men samtidigt är Sverige i sorg efter illdådet i Örebro förra veckan, sa kungen under konseljen.\n",
    "\n",
    "– Ljus möter mörker, mörker möter ljus. Låt mig också framföra regeringens varmaste gratulationer, sa statsminister Ulf Kristersson.\n",
    "\n",
    "Under dagen hålls också tacksägelsegudstjänst, Te Deum, med inbjudna representanter från bland annat riksdagen.\n",
    "\n",
    "Prinsparet har sedan tidigare tre barn – prins Alexander född 2016, prins Gabriel född 2017 och prins Julian född 2021.\n",
    "\n",
    "”Vi är lyckliga över att välkomna vår nyfödda dotter till världen. Storebröderna ser nu fram emot att lära känna sin nya lillasyster”, sa prins Carl Philip i ett uttalande efter födseln.\n",
    "\"\"\"\n"
   ]
  },
  {
   "cell_type": "code",
   "execution_count": 116,
   "metadata": {},
   "outputs": [
    {
     "data": {
      "text/plain": [
       "{'reasoning': 'This news article is classified as local_news because it focuses on a recent event involving the Swedish royal family, specifically the birth of a new princess and the events surrounding the revelation of her name. The story is centered around a domestic issue related to the Swedish monarchy, including details of a minor mistake made by the king in announcing the name during a council session. These elements are not of international or global interest, nor are they tied to finance, sports, or general politics, which are typical criteria for other classifications like world_news or politics. Instead, it pertains to a ceremonial and cultural matter significant primarily within Sweden.',\n",
       " 'classification': 'local_news'}"
      ]
     },
     "execution_count": 116,
     "metadata": {},
     "output_type": "execute_result"
    }
   ],
   "source": [
    "data = {\n",
    "    \"messages\": [\n",
    "        {\"role\": \"system\", \"content\": system_prompt},\n",
    "        {\"role\": \"user\", \"content\": user_prompt}\n",
    "    ],\n",
    "    \"response_format\": response_format\n",
    "}\n",
    "response = json.loads(requests.post(url, headers=headers, json=data).json()[\"choices\"][0][\"message\"][\"content\"])[\"response\"]\n",
    "response"
   ]
  },
  {
   "cell_type": "code",
   "execution_count": null,
   "metadata": {},
   "outputs": [],
   "source": []
  }
 ],
 "metadata": {
  "kernelspec": {
   "display_name": "Python 3 (ipykernel)",
   "language": "python",
   "name": "python3"
  },
  "language_info": {
   "codemirror_mode": {
    "name": "ipython",
    "version": 3
   },
   "file_extension": ".py",
   "mimetype": "text/x-python",
   "name": "python",
   "nbconvert_exporter": "python",
   "pygments_lexer": "ipython3",
   "version": "3.13.0"
  }
 },
 "nbformat": 4,
 "nbformat_minor": 4
}
